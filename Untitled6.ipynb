{
 "cells": [
  {
   "cell_type": "code",
   "execution_count": 15,
   "metadata": {},
   "outputs": [
    {
     "name": "stdout",
     "output_type": "stream",
     "text": [
      "Number of sucessfully processed images=  127\n"
     ]
    }
   ],
   "source": [
    "detector = MTCNN()\n",
    "sdir=r'/home/shoaibmerajsami/Desktop/VGG Face Database/vgg2 dataset/n000040/'\n",
    "working_dir=r'/home/shoaibmerajsami/Desktop/VGG Face Database/123123/'\n",
    "dest_dir=os.path.join(working_dir, str(100))\n",
    "height=512\n",
    "width=512\n",
    "count=align_crop_resize(sdir,dest_dir)\n",
    "print ('Number of sucessfully processed images= ', count)"
   ]
  },
  {
   "cell_type": "code",
   "execution_count": null,
   "metadata": {},
   "outputs": [],
   "source": []
  },
  {
   "cell_type": "code",
   "execution_count": 17,
   "metadata": {},
   "outputs": [],
   "source": [
    "iPATH=\"/home/shoaibmerajsami/Desktop/VGG Face Database/vgg2 dataset/\"\n",
    "#cegr02015_0012.arf\n",
    "abs_dir = [os.path.join(iPATH, img) for img in os.listdir(iPATH)]\n",
    "dd=len(abs_dir)"
   ]
  },
  {
   "cell_type": "code",
   "execution_count": 18,
   "metadata": {},
   "outputs": [],
   "source": [
    "for i in range(dd):\n",
    "    dest_dir=os.path.join(working_dir, str(i))\n",
    "    count=align_crop_resize(abs_dir[i],dest_dir)"
   ]
  },
  {
   "cell_type": "code",
   "execution_count": null,
   "metadata": {},
   "outputs": [],
   "source": []
  },
  {
   "cell_type": "code",
   "execution_count": 2,
   "metadata": {},
   "outputs": [],
   "source": [
    "import tensorflow\n",
    "from mtcnn import MTCNN\n",
    "import cv2\n",
    "import os\n",
    "import numpy as np\n",
    "from tqdm import tqdm\n",
    "import shutil\n",
    "import matplotlib.pyplot as plt\n",
    "from matplotlib.pyplot import imshow"
   ]
  },
  {
   "cell_type": "code",
   "execution_count": 3,
   "metadata": {},
   "outputs": [],
   "source": [
    "def align(img):\n",
    "    # This function takes in an image, detects the bounding boxes for the face or faces\n",
    "    # in the image and then selects the face with the largest number of pixels.\n",
    "    # for the largest face the eye centers are detected and the angle of the eyes with respect to\n",
    "    # the horizontal axis is determined. It then provides this angle to the rotate_bound function\n",
    "    # the rotate_bound function the rotates the image so the eyes are parallel to the horizontal axis\n",
    "        \n",
    "    data=detector.detect_faces(img)\n",
    "    # In case the image has more than 1 face, find the biggest face\n",
    "    biggest=0\n",
    "    if data !=[]:\n",
    "        for faces in data:\n",
    "            box=faces['box']            \n",
    "            # calculate the area in the image\n",
    "            area = box[3]  * box[2]\n",
    "            if area>biggest:\n",
    "                biggest=area\n",
    "                bbox=box                \n",
    "                keypoints=faces['keypoints']\n",
    "                left_eye=keypoints['left_eye']\n",
    "                right_eye=keypoints['right_eye']                 \n",
    "        lx,ly=left_eye        \n",
    "        rx,ry=right_eye\n",
    "        dx=rx-lx\n",
    "        dy=ry-ly\n",
    "        tan=dy/dx\n",
    "        theta=np.arctan(tan)\n",
    "        theta=np.degrees(theta)    \n",
    "        img=rotate_bound(img, theta)        \n",
    "        return (True,img)\n",
    "    else:\n",
    "        return (False, None)"
   ]
  },
  {
   "cell_type": "code",
   "execution_count": 4,
   "metadata": {},
   "outputs": [],
   "source": [
    "def crop_image(img): \n",
    "    data=detector.detect_faces(img)\n",
    "    #y=box[1] h=box[3] x=box[0] w=box[2]   \n",
    "    biggest=0\n",
    "    if data !=[]:\n",
    "        for faces in data:\n",
    "            box=faces['box']            \n",
    "            # calculate the area in the image\n",
    "            area = box[3]  * box[2]\n",
    "            if area>biggest:\n",
    "                biggest=area\n",
    "                bbox=box \n",
    "        bbox[0]= 0 if bbox[0]<0 else bbox[0]\n",
    "        bbox[1]= 0 if bbox[1]<0 else bbox[1]\n",
    "        img=img[bbox[1]: bbox[1]+bbox[3],bbox[0]: bbox[0]+ bbox[2]]        \n",
    "        return (True, img) \n",
    "    else:\n",
    "        return (False, None)\n",
    "    \n",
    "def rotate_bound(image, angle):\n",
    "    #rotates an image by the degree angle\n",
    "    # grab the dimensions of the image and then determine the center\n",
    "    (h, w) = image.shape[:2]\n",
    "    (cX, cY) = (w // 2, h // 2)\n",
    "    # grab the rotation matrix (applying the angle to rotate clockwise), then grab the sine and cosine\n",
    "    # (i.e., the rotation components of the matrix)\n",
    "    M = cv2.getRotationMatrix2D((cX, cY), angle, 1.0)\n",
    "    cos = np.abs(M[0, 0])\n",
    "    sin = np.abs(M[0, 1]) \n",
    "    # compute the new bounding dimensions of the image\n",
    "    nW = int((h * sin) + (w * cos))\n",
    "    nH = int((h * cos) + (w * sin)) \n",
    "    # adjust the rotation matrix to take into account translation\n",
    "    M[0, 2] += (nW / 2) - cX\n",
    "    M[1, 2] += (nH / 2) - cY \n",
    "    # perform the actual rotation and return the image\n",
    "    return cv2.warpAffine(image, M, (nW, nH)) "
   ]
  },
  {
   "cell_type": "code",
   "execution_count": 9,
   "metadata": {},
   "outputs": [],
   "source": [
    "def align_crop_resize(sdir,dest_dir, height=512, width= 512): \n",
    "    aligned_dir=os.path.join(dest_dir, 'Aligned Images')\n",
    "    cropped_dir=os.path.join(dest_dir, 'Cropped_Images')\n",
    "    if os.path.isdir(dest_dir):\n",
    "        shutil.rmtree(dest_dir)\n",
    "    os.mkdir(dest_dir)  #start with an empty destination directory\n",
    "    os.mkdir(aligned_dir)\n",
    "    os.mkdir(cropped_dir)\n",
    "    flist=os.listdir(sdir) #get a list of the image files    \n",
    "    success_count=0\n",
    "    for i,f in enumerate(flist): # iterate through the image files\n",
    "        fpath=os.path.join(sdir,f)        \n",
    "        if os.path.isfile(fpath):\n",
    "            try:\n",
    "                img=cv2.imread(fpath) # read in the image\n",
    "                shape=img.shape\n",
    "                status,img=align(img) # rotates the image for the eyes are horizontal\n",
    "                if status:\n",
    "                    aligned_path=os.path.join(aligned_dir,f)\n",
    "                    cv2.imwrite(aligned_path, img)                    \n",
    "                    cstatus, img=crop_image(img) # crops the aligned image to return the largest face\n",
    "                    if cstatus:\n",
    "                        if height != None and width !=None:\n",
    "                            img=cv2.resize(img, (height, width)) # if height annd width are specified resize the image\n",
    "                        cropped_path=os.path.join(cropped_dir, f)\n",
    "                        cv2.imwrite(cropped_path, img) # save the image\n",
    "                        success_count +=1 # update the coount of successful processed images\n",
    "                \n",
    "            except:\n",
    "                print('file ', fpath, ' is a bad image file')\n",
    "    return success_count"
   ]
  }
 ],
 "metadata": {
  "kernelspec": {
   "display_name": "Python 3",
   "language": "python",
   "name": "python3"
  },
  "language_info": {
   "codemirror_mode": {
    "name": "ipython",
    "version": 3
   },
   "file_extension": ".py",
   "mimetype": "text/x-python",
   "name": "python",
   "nbconvert_exporter": "python",
   "pygments_lexer": "ipython3",
   "version": "3.7.6"
  }
 },
 "nbformat": 4,
 "nbformat_minor": 4
}
